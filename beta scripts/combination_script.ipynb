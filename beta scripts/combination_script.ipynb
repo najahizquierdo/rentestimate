{
 "cells": [
  {
   "cell_type": "code",
   "execution_count": null,
   "id": "13131098",
   "metadata": {},
   "outputs": [],
   "source": [
    "\n"
   ]
  },
  {
   "cell_type": "code",
   "execution_count": 11,
   "id": "1faf3b19",
   "metadata": {},
   "outputs": [
    {
     "name": "stdout",
     "output_type": "stream",
     "text": [
      "Data saved to 'joined_data.csv'.\n"
     ]
    }
   ],
   "source": [
    "import pandas as pd\n",
    "\n",
    "# Define the zip codes to filter\n",
    "target_zip_codes = [\n",
    "    '90001', '90002', '90003', '90004', '90005', '90006', '90007', '90008', '90010', '90011',\n",
    "    '90012', '90013', '90014', '90015', '90016', '90017', '90018', '90019', '90020', '90021',\n",
    "    '90022', '90023', '90024', '90025', '90026', '90027', '90028', '90029', '90031', '90032',\n",
    "    '90033', '90034', '90035', '90036', '90037', '90038', '90039', '90040', '90041', '90042',\n",
    "    '90043', '90044', '90045', '90046', '90047', '90048', '90049', '90056', '90057', '90058',\n",
    "    '90059', '90061', '90062', '90063', '90064', '90065', '90066', '90067', '90068', '90069',\n",
    "    '90077', '90094', '90201', '90210', '90211', '90212', '90220', '90221', '90222', '90230',\n",
    "    '90232', '90240', '90241', '90242', '90245', '90247', '90248', '90249', '90250', '90254',\n",
    "    '90255', '90260', '90262', '90265', '90266', '90270', '90272', '90274', '90275', '90277',\n",
    "    '90278', '90280', '90291', '90292', '90293', '90301', '90302', '90303', '90304', '90305',\n",
    "    '90401', '90402', '90403', '90404', '90405', '90501', '90502', '90503', '90504', '90505',\n",
    "    '90601', '90602', '90603', '90604', '90605', '90606', '90631', '90638', '90640', '90650',\n",
    "    '90670', '90701', '90703', '90706', '90710', '90712', '90713', '90715', '90716', '90723',\n",
    "    '90731', '90732', '90740', '90744', '90745', '90746', '90802', '90803', '90804', '90805',\n",
    "    '90806', '90807', '90808', '90810', '90813', '90814', '90815', '91006', '91007', '91008',\n",
    "    '91010', '91011', '91016', '91020', '91030', '91040', '91042', '91101', '91103', '91104',\n",
    "    '91105', '91106', '91107', '91108', '91201', '91202', '91203', '91204', '91205', '91206',\n",
    "    '91207', '91208', '91210', '91214', '91301', '91302', '91303', '91304', '91306', '91307',\n",
    "    '91311', '91316', '91321', '91324', '91325', '91326', '91331', '91335', '91340', '91342',\n",
    "    '91343', '91344', '91345', '91350', '91351', '91352', '91354', '91355', '91356', '91361',\n",
    "    '91362', '91364', '91367', '91387', '91390', '91401', '91402', '91403', '91405', '91406',\n",
    "    '91411', '91423', '91436', '91501', '91502', '91504', '91505', '91506', '91601', '91602',\n",
    "    '91604', '91605', '91606', '91607', '91702', '91706', '91711', '91722', '91723', '91724',\n",
    "    '91731', '91732', '91733', '91740', '91741', '91744', '91745', '91746', '91748', '91750',\n",
    "    '91754', '91755', '91765', '91766', '91767', '91768', '91770', '91773', '91775', '91776',\n",
    "    '91780', '91789', '91790', '91791', '91792', '91801', '91803', '93510', '93534', '93535',\n",
    "    '93536', '93543', '93550', '93551', '93552', '93591'\n",
    "]\n",
    "\n",
    "# Define columns to extract\n",
    "columns_to_extract = ['zip_code', '0br']  # Replace 'column1', 'column2' with actual column names\n",
    "\n",
    "# Define input Excel files\n",
    "excel_files = ['rents_2020.xlsx', 'rents_2021.xlsx', 'rents_2022.xlsx', 'rents_2023.xlsx']  # Replace with actual file names\n",
    "\n",
    "# Initialize an empty DataFrame to store results\n",
    "result_df = pd.DataFrame()\n",
    "\n",
    "# Loop through each Excel file\n",
    "for file in excel_files:\n",
    "    # Read the Excel file\n",
    "    try:\n",
    "        df = pd.read_excel(file)\n",
    "    except FileNotFoundError:\n",
    "        print(f\"File '{file}' not found.\")\n",
    "        continue\n",
    "\n",
    "    # Filter rows with the specified zip codes\n",
    "    filtered_df = df[df['zip_code'].astype(str).isin(target_zip_codes)]\n",
    "\n",
    "    # If there are no rows matching the zip codes, skip to the next file\n",
    "    if filtered_df.empty:\n",
    "        print(f\"No rows found in '{file}' for the specified zip codes.\")\n",
    "        continue\n",
    "\n",
    "    # Extract specified columns\n",
    "    filtered_df = filtered_df[columns_to_extract]\n",
    "\n",
    "    # Append filtered data to the result DataFrame\n",
    "    result_df = pd.concat([result_df, filtered_df], ignore_index=True)\n",
    "\n",
    "# If no data was found, exit\n",
    "if result_df.empty:\n",
    "    print(\"No data found.\")\n",
    "    exit()\n",
    "\n",
    "# Write the result to a CSV file\n",
    "result_df.to_csv('joined_data.csv', index=False)\n",
    "print(\"Data saved to 'joined_data.csv'.\")\n"
   ]
  },
  {
   "cell_type": "code",
   "execution_count": null,
   "id": "859a9c1c",
   "metadata": {},
   "outputs": [],
   "source": []
  }
 ],
 "metadata": {
  "kernelspec": {
   "display_name": "Python 3 (ipykernel)",
   "language": "python",
   "name": "python3"
  },
  "language_info": {
   "codemirror_mode": {
    "name": "ipython",
    "version": 3
   },
   "file_extension": ".py",
   "mimetype": "text/x-python",
   "name": "python",
   "nbconvert_exporter": "python",
   "pygments_lexer": "ipython3",
   "version": "3.11.5"
  }
 },
 "nbformat": 4,
 "nbformat_minor": 5
}
